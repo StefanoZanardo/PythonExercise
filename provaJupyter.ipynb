{
 "cells": [
  {
   "cell_type": "code",
   "execution_count": null,
   "id": "04592a30-5423-41ed-9668-e9e0be4c8e9d",
   "metadata": {},
   "outputs": [],
   "source": [
    "print(\"Hello world\")"
   ]
  },
  {
   "cell_type": "markdown",
   "id": "7c5eb9d3",
   "metadata": {},
   "source": [
    "SWITCH IN PYTHON"
   ]
  },
  {
   "cell_type": "code",
   "execution_count": null,
   "id": "e56894e4",
   "metadata": {},
   "outputs": [],
   "source": [
    "a = input(\"Inserisci una parola tra primo e secondo: \")\n",
    "\n",
    "match a:\n",
    "    case \"primo\":\n",
    "        print(\"Hai scelto primo\")\n",
    "    case \"secondo\":\n",
    "        print(\"Hai scelto secondo\")\n",
    "    case _:\n",
    "        print(\"Non hai scelto nè primo nè secondo\")\n",
    "        "
   ]
  },
  {
   "cell_type": "markdown",
   "id": "924953a8",
   "metadata": {},
   "source": [
    "Proviam una matrice"
   ]
  },
  {
   "cell_type": "code",
   "execution_count": null,
   "id": "100cf939",
   "metadata": {},
   "outputs": [],
   "source": [
    "a = list([[1, 2, 3], [4, 5, 6], [7, 8, 9]])\n",
    "\n",
    "\n",
    "for r in a:\n",
    "    \n",
    "    print()\n",
    "    for c in r:\n",
    "        print(c,end=\" \")\n",
    "     "
   ]
  },
  {
   "cell_type": "markdown",
   "id": "781ff941",
   "metadata": {},
   "source": [
    "ALGORITMO AHMES\n",
    "\n",
    "risultato: a*b\n",
    "\n",
    "Condizioni:\n",
    "\n",
    "se A è uguale a 1 = ab = b\n",
    "\n",
    "se A è uguale è pari ab = (a/2)*(2b)\n",
    "\n",
    "se A è dispari è dispari ab = (a-1) * b + b\n"
   ]
  },
  {
   "cell_type": "code",
   "execution_count": 1,
   "id": "1c627d88",
   "metadata": {},
   "outputs": [
    {
     "name": "stdout",
     "output_type": "stream",
     "text": [
      "Il numero 5 è dispari\n",
      "Il numero 4 è pari \n",
      "Il numero 2 è pari \n",
      "Il risultato è 50\n"
     ]
    }
   ],
   "source": [
    "a = int(input(\"Inserisci il primo che vuoi calcolare\"))\n",
    "b = int(input(\"Inserisci il secondo che vuoi calcolare\"))\n",
    " \n",
    "tempb = 0    \n",
    "    \n",
    "if b == 1 :\n",
    "    print (\"Il risultato è \" + str(a))\n",
    "\n",
    "while True:\n",
    "    if a == 1 :\n",
    "        b= b+tempb       \n",
    "        print (\"Il risultato è \" + str(b))\n",
    "        break         \n",
    "    elif a % 2 == 0:\n",
    "            print (F\"Il numero {str(a)} è pari \")\n",
    "            a = a//2  \n",
    "            b = b*2    \n",
    "    elif a % 2 != 0:\n",
    "            print (F\"Il numero {str(a)} è dispari\")\n",
    "            a = a-1  \n",
    "            tempb += b \n"
   ]
  },
  {
   "cell_type": "markdown",
   "id": "f430e543",
   "metadata": {},
   "source": [
    "Collate\n",
    "\n",
    "obiettivo arrivare 1\n",
    "\n",
    "N = numero intero\n",
    "\n",
    "\n",
    "N pari => n/2\n",
    "\n",
    "N dispari  => 3n +1\n",
    "\n",
    "Input 17\n",
    "\n",
    "Output 17 → 52 → 26 → 13 → 40 → 20 → 10 → 5 → 16 → 8 → 4 → 2 → 1. "
   ]
  },
  {
   "cell_type": "code",
   "execution_count": 1,
   "id": "3de4dbbd",
   "metadata": {},
   "outputs": [
    {
     "name": "stdout",
     "output_type": "stream",
     "text": [
      "1- Trova la sequenza di valori Collatz\n",
      "2- Data la lunghezzad della sequenza  e quale numero la genera\n",
      "3- Modifica i coefficienti di Collatz \n",
      "1==>"
     ]
    }
   ],
   "source": [
    "print (\"1- Trova la sequenza di valori Collatz\")\n",
    "print (\"2- Data la lunghezzad della sequenza  e quale numero la genera\")\n",
    "print (\"3- Modifica i coefficienti di Collatz \")\n",
    "\n",
    "scelta = int(input(\"Cosa vuoi fare?\"))\n",
    "\n",
    "match scelta:\n",
    "    case 1:\n",
    "        numeroCollatz = int(input(\"Inserisci il numero intero per calcolare la sequenza di Collatz: \"))    \n",
    "        \n",
    "        while numeroCollatz != 1:\n",
    "            \n",
    "            if numeroCollatz % 2 == 0:\n",
    "                numeroCollatz = numeroCollatz //2\n",
    "            else:\n",
    "                numeroCollatz = 3 * numeroCollatz + 1\n",
    "            print(numeroCollatz, end=\"==>\")\n",
    "        "
   ]
  },
  {
   "cell_type": "markdown",
   "id": "25d19e88",
   "metadata": {},
   "source": [
    "Funzioni "
   ]
  },
  {
   "cell_type": "code",
   "execution_count": 3,
   "id": "4bb8f6e5",
   "metadata": {},
   "outputs": [
    {
     "name": "stdout",
     "output_type": "stream",
     "text": [
      "10==>None\n"
     ]
    }
   ],
   "source": [
    "def getall(a:int) -> None:\n",
    "    print(a, end=\"==>\")\n",
    "    \n",
    "print(getall(10))"
   ]
  },
  {
   "cell_type": "markdown",
   "id": "d0975664",
   "metadata": {},
   "source": [
    "Creare una lsta  che contiene tutti i numeri pari da 10 a 25"
   ]
  },
  {
   "cell_type": "markdown",
   "id": "db908412",
   "metadata": {},
   "source": [
    "Fare la motipicazione attraverso la successione \n",
    "\n",
    "con addizione 3+2 = S(S(S(2))) = 5\n",
    "\n",
    "con moltiplicazione "
   ]
  },
  {
   "cell_type": "code",
   "execution_count": null,
   "id": "df4970bf",
   "metadata": {},
   "outputs": [
    {
     "name": "stdout",
     "output_type": "stream",
     "text": [
      "a=5  b=10\n",
      "1 2 3 4 5 6 7 8 9 10 11 12 13 14 15 16 17 18 19 20 21 22 23 24 25 26 27 28 29 30 31 32 33 34 35 36 37 38 39 40 41 42 43 44 45 46 47 48 49 50 "
     ]
    }
   ],
   "source": [
    "a = int(input(\"Inserisci il primo che vuoi calcolare\")) \n",
    "b = int(input(\"Inserisci il secondo che vuoi calcolare\"))\n",
    "\n",
    "print (F\"a={str(a )}  b={str(b)}\")\n",
    "risultato = 0 \n",
    "\n",
    "for d in range(a):\n",
    "    for e in range(b):\n",
    "        risultato += 1\n",
    "        print( str(risultato),end=\" \")\n",
    "        \n",
    "    "
   ]
  },
  {
   "cell_type": "markdown",
   "id": "5f8b515c",
   "metadata": {},
   "source": [
    "Fibonacci\n",
    "\n",
    "Funzione ricorsiva"
   ]
  },
  {
   "cell_type": "code",
   "execution_count": 3,
   "id": "406c3878",
   "metadata": {},
   "outputs": [
    {
     "ename": "KeyboardInterrupt",
     "evalue": "",
     "output_type": "error",
     "traceback": [
      "\u001b[1;31m---------------------------------------------------------------------------\u001b[0m",
      "\u001b[1;31mKeyboardInterrupt\u001b[0m                         Traceback (most recent call last)",
      "Cell \u001b[1;32mIn[3], line 11\u001b[0m\n\u001b[0;32m      8\u001b[0m     \u001b[38;5;28;01melse\u001b[39;00m:\n\u001b[0;32m      9\u001b[0m         \u001b[38;5;28;01mreturn\u001b[39;00m fibonacci(n\u001b[38;5;241m-\u001b[39m\u001b[38;5;241m1\u001b[39m) \u001b[38;5;241m+\u001b[39m fibonacci(n\u001b[38;5;241m-\u001b[39m\u001b[38;5;241m2\u001b[39m)  \n\u001b[1;32m---> 11\u001b[0m risultato \u001b[38;5;241m=\u001b[39m fibonacci(numfib)\n\u001b[0;32m     13\u001b[0m \u001b[38;5;28mprint\u001b[39m (\u001b[38;5;124mF\u001b[39m\u001b[38;5;124m\"\u001b[39m\u001b[38;5;124mIl numero di Fibonacci dato \u001b[39m\u001b[38;5;132;01m{\u001b[39;00mnumfib\u001b[38;5;132;01m}\u001b[39;00m\u001b[38;5;124m è \u001b[39m\u001b[38;5;132;01m{\u001b[39;00m\u001b[38;5;28mstr\u001b[39m(risultato)\u001b[38;5;132;01m}\u001b[39;00m\u001b[38;5;124m\"\u001b[39m)\n",
      "Cell \u001b[1;32mIn[3], line 9\u001b[0m, in \u001b[0;36mfibonacci\u001b[1;34m(n)\u001b[0m\n\u001b[0;32m      7\u001b[0m     \u001b[38;5;28;01mreturn\u001b[39;00m \u001b[38;5;241m1\u001b[39m\n\u001b[0;32m      8\u001b[0m \u001b[38;5;28;01melse\u001b[39;00m:\n\u001b[1;32m----> 9\u001b[0m     \u001b[38;5;28;01mreturn\u001b[39;00m fibonacci(n\u001b[38;5;241m-\u001b[39m\u001b[38;5;241m1\u001b[39m) \u001b[38;5;241m+\u001b[39m fibonacci(n\u001b[38;5;241m-\u001b[39m\u001b[38;5;241m2\u001b[39m)\n",
      "Cell \u001b[1;32mIn[3], line 9\u001b[0m, in \u001b[0;36mfibonacci\u001b[1;34m(n)\u001b[0m\n\u001b[0;32m      7\u001b[0m     \u001b[38;5;28;01mreturn\u001b[39;00m \u001b[38;5;241m1\u001b[39m\n\u001b[0;32m      8\u001b[0m \u001b[38;5;28;01melse\u001b[39;00m:\n\u001b[1;32m----> 9\u001b[0m     \u001b[38;5;28;01mreturn\u001b[39;00m fibonacci(n\u001b[38;5;241m-\u001b[39m\u001b[38;5;241m1\u001b[39m) \u001b[38;5;241m+\u001b[39m fibonacci(n\u001b[38;5;241m-\u001b[39m\u001b[38;5;241m2\u001b[39m)\n",
      "    \u001b[1;31m[... skipping similar frames: fibonacci at line 9 (179 times)]\u001b[0m\n",
      "Cell \u001b[1;32mIn[3], line 9\u001b[0m, in \u001b[0;36mfibonacci\u001b[1;34m(n)\u001b[0m\n\u001b[0;32m      7\u001b[0m     \u001b[38;5;28;01mreturn\u001b[39;00m \u001b[38;5;241m1\u001b[39m\n\u001b[0;32m      8\u001b[0m \u001b[38;5;28;01melse\u001b[39;00m:\n\u001b[1;32m----> 9\u001b[0m     \u001b[38;5;28;01mreturn\u001b[39;00m fibonacci(n\u001b[38;5;241m-\u001b[39m\u001b[38;5;241m1\u001b[39m) \u001b[38;5;241m+\u001b[39m fibonacci(n\u001b[38;5;241m-\u001b[39m\u001b[38;5;241m2\u001b[39m)\n",
      "Cell \u001b[1;32mIn[3], line 3\u001b[0m, in \u001b[0;36mfibonacci\u001b[1;34m(n)\u001b[0m\n\u001b[0;32m      1\u001b[0m numfib \u001b[38;5;241m=\u001b[39m \u001b[38;5;28mint\u001b[39m(\u001b[38;5;28minput\u001b[39m(\u001b[38;5;124m\"\u001b[39m\u001b[38;5;124mInserisci il numero di Fibonacci che vuoi calcolare: \u001b[39m\u001b[38;5;124m\"\u001b[39m))    \n\u001b[1;32m----> 3\u001b[0m \u001b[38;5;28;01mdef\u001b[39;00m\u001b[38;5;250m \u001b[39m\u001b[38;5;21mfibonacci\u001b[39m(n:\u001b[38;5;28mint\u001b[39m) \u001b[38;5;241m-\u001b[39m\u001b[38;5;241m>\u001b[39m \u001b[38;5;28mint\u001b[39m:\n\u001b[0;32m      4\u001b[0m     \u001b[38;5;28;01mif\u001b[39;00m n \u001b[38;5;241m<\u001b[39m\u001b[38;5;241m=\u001b[39m \u001b[38;5;241m0\u001b[39m:\n\u001b[0;32m      5\u001b[0m         \u001b[38;5;28;01mreturn\u001b[39;00m \u001b[38;5;241m0\u001b[39m\n",
      "\u001b[1;31mKeyboardInterrupt\u001b[0m: "
     ]
    }
   ],
   "source": [
    "numfib = int(input(\"Inserisci il numero di Fibonacci che vuoi calcolare: \"))    \n",
    "\n",
    "def fibonacci(n:int) -> int:\n",
    "    if n <= 0:\n",
    "        return 0\n",
    "    elif n == 1:\n",
    "        return 1\n",
    "    else:\n",
    "        return fibonacci(n-1) + fibonacci(n-2)  \n",
    "    \n",
    "risultato = fibonacci(numfib)\n",
    "\n",
    "print (F\"Il numero di Fibonacci dato {numfib} è {str(risultato)}\")"
   ]
  },
  {
   "cell_type": "code",
   "execution_count": null,
   "id": "4edfd46d",
   "metadata": {},
   "outputs": [
    {
     "name": "stdout",
     "output_type": "stream",
     "text": [
      "2 Il numero di Fibonacci dato 3 è 2\n"
     ]
    }
   ],
   "source": [
    "a = int(input(\"Inserisci il numero di Fibonacci che vuoi calcolare: \"))\n",
    "def fibonacci_in(a:int)-> int:\n",
    "    for i in range(a):  \n",
    "        if i == 1:\n",
    "            primnumero = 1\n",
    "            secondonumero = 1\n",
    "        elif i >= 2:\n",
    "            tempnumero = secondonumero + primnumero\n",
    "            primnumero = secondonumero\n",
    "            secondonumero = tempnumero\n",
    "            print (tempnumero,end=\" \")  \n",
    "        else:\n",
    "            tempnumero = 0\n",
    "    return tempnumero\n",
    "\n",
    "b = fibonacci_in(a)\n",
    "\n",
    "print (F\"Il numero di Fibonacci dato {a} è {str(b)}\")\n",
    "  "
   ]
  },
  {
   "cell_type": "markdown",
   "id": "1a6e8d18",
   "metadata": {},
   "source": [
    "Metoo per calcolare distanza tra valori di una matrice"
   ]
  },
  {
   "cell_type": "code",
   "execution_count": null,
   "id": "5a7eea28",
   "metadata": {},
   "outputs": [
    {
     "name": "stdout",
     "output_type": "stream",
     "text": [
      "i vettori sono ottusi (distanza angolare maggiore di 90°). Quindi sono lontani fra loro. da lati opposti dell'origine.\n",
      "-20\n"
     ]
    }
   ],
   "source": [
    "studA = [1, 2]\n",
    "studB = [3, 4]\n",
    "\n",
    "moltiplicazionematrice =  0;  \n",
    "\n",
    "for i in range(len(studA)):\n",
    "    moltiplicazionematrice += (studA[i] * studB[i])\n",
    "\n",
    "if moltiplicazionematrice == 0:\n",
    "    print(\"i vettori sono perpendicolari (massima distanza angolare: 90°).Quindi uno è sul lato x e l'altro sul lato y.\")\n",
    "elif moltiplicazionematrice > 0:\n",
    "    print(\"i vettori sono acuti (distanza angolare minore di 90°). Quindi sono vicini fra loro.\")\n",
    "else:\n",
    "    print(\"i vettori sono ottusi (distanza angolare maggiore di 90°). Quindi sono lontani fra loro, da lati opposti dell'origine.\") \n",
    "    \n",
    "print(moltiplicazionematrice)"
   ]
  },
  {
   "cell_type": "markdown",
   "id": "380dc3d9",
   "metadata": {},
   "source": [
    "Derivate su vettori NABLA Gradienti  V Stocahastic gradient descent algorithm\n",
    "\n",
    "inoltre l' ai con rgadienti è un algoritmo stocastico e euristico"
   ]
  },
  {
   "cell_type": "markdown",
   "id": "0246e4e6",
   "metadata": {},
   "source": [
    "Classi in Python"
   ]
  },
  {
   "cell_type": "code",
   "execution_count": 4,
   "id": "30212a50",
   "metadata": {},
   "outputs": [
    {
     "name": "stdout",
     "output_type": "stream",
     "text": [
      "b\n",
      "a\n"
     ]
    }
   ],
   "source": [
    "def a():\n",
    "    print(\"a\")\n",
    "    \n",
    "def b(d):\n",
    "    print(\"b\")\n",
    "    d()\n",
    "    \n",
    "c = b(a)\n",
    "\n",
    "c"
   ]
  },
  {
   "cell_type": "markdown",
   "id": "1001e464",
   "metadata": {},
   "source": [
    "Esercizio calcolo Volumi \n",
    "\n",
    "TT= Pigreco\n",
    "\n",
    "Parallelepipedo = a*b*c\n",
    "\n",
    "Cubo = a^3\n",
    "\n",
    "sfera = 4/3 TT R^2\n",
    "\n",
    "Ellissoide = a * R^2 * TT\n",
    "\n",
    "Piramide = 1/3 a*b*h\n",
    "\n",
    "Cono = 1/3 R^2 h*TT"
   ]
  },
  {
   "cell_type": "code",
   "execution_count": null,
   "id": "af291c1a",
   "metadata": {},
   "outputs": [
    {
     "name": "stdout",
     "output_type": "stream",
     "text": [
      "235.61944901923448\n"
     ]
    }
   ],
   "source": [
    "import math\n",
    "class Figure:\n",
    "    def __init__(self,lunghezza, larghezza, altezza):\n",
    "        self.lunghezza = lunghezza\n",
    "        self.larghezza = larghezza\n",
    "        self.altezza = altezza\n",
    "    def calcoloVolume(self):\n",
    "        return self\n",
    "\n",
    "class Cubo(Figure):\n",
    "    def __init__(self, lato):\n",
    "        self.lato = lato\n",
    "            \n",
    "    def calcoloVolume(self):\n",
    "        super().calcoloVolume()\n",
    "        a = self.lato ** 3\n",
    "        return print(a)\n",
    "\n",
    "class Ellissoide(Figure):\n",
    "    \n",
    "    def __init__(self, a, b):\n",
    "        self.a = a\n",
    "        self.b = b\n",
    "        \n",
    "        \n",
    "        \n",
    "    def calcoloVolume(self):\n",
    "        super().calcoloVolume()\n",
    "        __Pigreco=3.14\n",
    "        risultato = (self.a)*self.b**2*math.pi\n",
    "        return print(risultato)\n",
    "        \n",
    "        \n",
    "        \n",
    "  \n",
    "b = Ellissoide(3,5)\n",
    "\n",
    "b.calcoloVolume()    \n",
    "       \n",
    "    \n",
    "    "
   ]
  },
  {
   "cell_type": "markdown",
   "id": "e80c6402",
   "metadata": {},
   "source": []
  },
  {
   "cell_type": "code",
   "execution_count": null,
   "id": "39d9a5a1",
   "metadata": {},
   "outputs": [],
   "source": []
  }
 ],
 "metadata": {
  "kernelspec": {
   "display_name": "base",
   "language": "python",
   "name": "python3"
  },
  "language_info": {
   "codemirror_mode": {
    "name": "ipython",
    "version": 3
   },
   "file_extension": ".py",
   "mimetype": "text/x-python",
   "name": "python",
   "nbconvert_exporter": "python",
   "pygments_lexer": "ipython3",
   "version": "3.13.5"
  }
 },
 "nbformat": 4,
 "nbformat_minor": 5
}
